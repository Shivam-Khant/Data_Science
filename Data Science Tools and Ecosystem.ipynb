{
 "cells": [
  {
   "cell_type": "markdown",
   "id": "f77ce8c5-dcfe-4cd5-9b8c-8935dfa93bd3",
   "metadata": {},
   "source": [
    "# Data Science Tools and Ecosystem"
   ]
  },
  {
   "cell_type": "markdown",
   "id": "be99eddb-9b4c-45fd-8f5b-dfa61b067201",
   "metadata": {},
   "source": [
    "In this notebook, Data Science Tools and Ecosystem are summarized."
   ]
  },
  {
   "cell_type": "markdown",
   "id": "ca2c5c9e-eae4-4f7c-8400-63500f17ef78",
   "metadata": {},
   "source": [
    "Some of the popular languages that Data Scientists use are:\n",
    "1. Python\n",
    "2. R\n",
    "3. SQl\n",
    "4. Java\n",
    "5. Scala"
   ]
  },
  {
   "cell_type": "markdown",
   "id": "20ead69f-e736-4a7f-b5a5-15f366121cf2",
   "metadata": {},
   "source": [
    "Some of the commonly used libraries used by Data Scientists include:\n",
    "1. Pandas\n",
    "2. NumPy\n",
    "3. Matplotlib\n",
    "4. TensorFlow\n",
    "5. SciKit-Learn"
   ]
  },
  {
   "cell_type": "markdown",
   "id": "ab9707c8-f80c-498a-9429-5484bf03c5e0",
   "metadata": {},
   "source": [
    "| Data Science Tools|\n",
    "|-------------------|\n",
    "| Jupyter Notebook |\n",
    "| RStudio          |\n",
    "|GitLab    |\n"
   ]
  },
  {
   "cell_type": "markdown",
   "id": "2e24383e-f5e9-45e7-8019-b51ca5015f6f",
   "metadata": {},
   "source": [
    "### Below are a few examples of evaluating arithmetic expressions in Python"
   ]
  },
  {
   "cell_type": "code",
   "execution_count": 7,
   "id": "691fb49e-0d75-44c3-9f98-f494b16597a1",
   "metadata": {},
   "outputs": [
    {
     "data": {
      "text/plain": [
       "17"
      ]
     },
     "execution_count": 7,
     "metadata": {},
     "output_type": "execute_result"
    }
   ],
   "source": [
    "#This is a simple arithmetic expression to multiply then add integers.\n",
    "(3*4)+5"
   ]
  },
  {
   "cell_type": "code",
   "execution_count": 11,
   "id": "8488a2f2-63e8-48f7-99fb-9908aa922344",
   "metadata": {},
   "outputs": [
    {
     "name": "stdout",
     "output_type": "stream",
     "text": [
      "200  minutes = 3.3333333333333335 hours\n"
     ]
    }
   ],
   "source": [
    "#This will convert 200 minutees to hours by dividing 60\n",
    "minutes=200\n",
    "print(minutes, \" minutes =\", minutes/60,\"hours\")"
   ]
  },
  {
   "cell_type": "markdown",
   "id": "1049178e-0f9b-427a-9d2b-2bf9f107ab04",
   "metadata": {},
   "source": [
    "**Objectives:**\n",
    "<li>List popular langauges for Data Science</li>\n",
    "<li>List commonly used libraries by Data Scientists</li>\n",
    "<li>Create table for free open source tools used in Data Science</li>\n",
    "<li>Evaluate Arithmetic expression</li>\n"
   ]
  },
  {
   "cell_type": "markdown",
   "id": "fd51ed7f-2169-44a5-9307-687b8cd7cc38",
   "metadata": {},
   "source": [
    "## Author"
   ]
  },
  {
   "cell_type": "markdown",
   "id": "b6522e89-dd04-42ef-af92-d20187eb3444",
   "metadata": {},
   "source": [
    "Shivam Khant"
   ]
  },
  {
   "cell_type": "code",
   "execution_count": null,
   "id": "9fcec84e-bf1a-4de3-8172-de886da04166",
   "metadata": {},
   "outputs": [],
   "source": []
  }
 ],
 "metadata": {
  "kernelspec": {
   "display_name": "Python 3 (ipykernel)",
   "language": "python",
   "name": "python3"
  },
  "language_info": {
   "codemirror_mode": {
    "name": "ipython",
    "version": 3
   },
   "file_extension": ".py",
   "mimetype": "text/x-python",
   "name": "python",
   "nbconvert_exporter": "python",
   "pygments_lexer": "ipython3",
   "version": "3.12.0"
  }
 },
 "nbformat": 4,
 "nbformat_minor": 5
}
